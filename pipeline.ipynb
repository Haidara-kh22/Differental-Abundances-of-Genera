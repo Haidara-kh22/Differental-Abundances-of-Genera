{
 "cells": [
  {
   "cell_type": "markdown",
   "id": "3baefb28",
   "metadata": {},
   "source": [
    "Loading required packages:\n"
   ]
  },
  {
   "cell_type": "code",
   "execution_count": 1,
   "id": "508548d9",
   "metadata": {
    "vscode": {
     "languageId": "r"
    }
   },
   "outputs": [
    {
     "name": "stderr",
     "output_type": "stream",
     "text": [
      "Loading required package: grid\n",
      "\n",
      "========================================\n",
      "ComplexHeatmap version 2.23.1\n",
      "Bioconductor page: http://bioconductor.org/packages/ComplexHeatmap/\n",
      "Github page: https://github.com/jokergoo/ComplexHeatmap\n",
      "Documentation: http://jokergoo.github.io/ComplexHeatmap-reference\n",
      "\n",
      "If you use it in published research, please cite either one:\n",
      "- Gu, Z. Complex Heatmap Visualization. iMeta 2022.\n",
      "- Gu, Z. Complex heatmaps reveal patterns and correlations in multidimensional \n",
      "    genomic data. Bioinformatics 2016.\n",
      "\n",
      "\n",
      "The new InteractiveComplexHeatmap package can directly export static \n",
      "complex heatmaps into an interactive Shiny app with zero effort. Have a try!\n",
      "\n",
      "This message can be suppressed by:\n",
      "  suppressPackageStartupMessages(library(ComplexHeatmap))\n",
      "========================================\n",
      "\n",
      "\n",
      "\n",
      "Attaching package: ‘plotly’\n",
      "\n",
      "\n",
      "The following object is masked from ‘package:ggplot2’:\n",
      "\n",
      "    last_plot\n",
      "\n",
      "\n",
      "The following object is masked from ‘package:ComplexHeatmap’:\n",
      "\n",
      "    add_heatmap\n",
      "\n",
      "\n",
      "The following object is masked from ‘package:stats’:\n",
      "\n",
      "    filter\n",
      "\n",
      "\n",
      "The following object is masked from ‘package:graphics’:\n",
      "\n",
      "    layout\n",
      "\n",
      "\n",
      "\n",
      "Attaching package: ‘dplyr’\n",
      "\n",
      "\n",
      "The following objects are masked from ‘package:stats’:\n",
      "\n",
      "    filter, lag\n",
      "\n",
      "\n",
      "The following objects are masked from ‘package:base’:\n",
      "\n",
      "    intersect, setdiff, setequal, union\n",
      "\n",
      "\n",
      "Loading required package: S4Vectors\n",
      "\n",
      "Loading required package: stats4\n",
      "\n",
      "Loading required package: BiocGenerics\n",
      "\n",
      "Loading required package: generics\n",
      "\n",
      "\n",
      "Attaching package: ‘generics’\n",
      "\n",
      "\n",
      "The following object is masked from ‘package:dplyr’:\n",
      "\n",
      "    explain\n",
      "\n",
      "\n",
      "The following objects are masked from ‘package:base’:\n",
      "\n",
      "    as.difftime, as.factor, as.ordered, intersect, is.element, setdiff,\n",
      "    setequal, union\n",
      "\n",
      "\n",
      "\n",
      "Attaching package: ‘BiocGenerics’\n",
      "\n",
      "\n",
      "The following object is masked from ‘package:dplyr’:\n",
      "\n",
      "    combine\n",
      "\n",
      "\n",
      "The following objects are masked from ‘package:stats’:\n",
      "\n",
      "    IQR, mad, sd, var, xtabs\n",
      "\n",
      "\n",
      "The following objects are masked from ‘package:base’:\n",
      "\n",
      "    anyDuplicated, aperm, append, as.data.frame, basename, cbind,\n",
      "    colnames, dirname, do.call, duplicated, eval, evalq, Filter, Find,\n",
      "    get, grep, grepl, is.unsorted, lapply, Map, mapply, match, mget,\n",
      "    order, paste, pmax, pmax.int, pmin, pmin.int, Position, rank,\n",
      "    rbind, Reduce, rownames, sapply, saveRDS, table, tapply, unique,\n",
      "    unsplit, which.max, which.min\n",
      "\n",
      "\n",
      "\n",
      "Attaching package: ‘S4Vectors’\n",
      "\n",
      "\n",
      "The following objects are masked from ‘package:dplyr’:\n",
      "\n",
      "    first, rename\n",
      "\n",
      "\n",
      "The following object is masked from ‘package:plotly’:\n",
      "\n",
      "    rename\n",
      "\n",
      "\n",
      "The following object is masked from ‘package:utils’:\n",
      "\n",
      "    findMatches\n",
      "\n",
      "\n",
      "The following objects are masked from ‘package:base’:\n",
      "\n",
      "    expand.grid, I, unname\n",
      "\n",
      "\n",
      "Loading required package: IRanges\n",
      "\n",
      "\n",
      "Attaching package: ‘IRanges’\n",
      "\n",
      "\n",
      "The following objects are masked from ‘package:dplyr’:\n",
      "\n",
      "    collapse, desc, slice\n",
      "\n",
      "\n",
      "The following object is masked from ‘package:plotly’:\n",
      "\n",
      "    slice\n",
      "\n",
      "\n",
      "Loading required package: GenomicRanges\n",
      "\n",
      "Loading required package: GenomeInfoDb\n",
      "\n",
      "Loading required package: SummarizedExperiment\n",
      "\n",
      "Loading required package: MatrixGenerics\n",
      "\n",
      "Loading required package: matrixStats\n",
      "\n",
      "\n",
      "Attaching package: ‘matrixStats’\n",
      "\n",
      "\n",
      "The following object is masked from ‘package:dplyr’:\n",
      "\n",
      "    count\n",
      "\n",
      "\n",
      "\n",
      "Attaching package: ‘MatrixGenerics’\n",
      "\n",
      "\n",
      "The following objects are masked from ‘package:matrixStats’:\n",
      "\n",
      "    colAlls, colAnyNAs, colAnys, colAvgsPerRowSet, colCollapse,\n",
      "    colCounts, colCummaxs, colCummins, colCumprods, colCumsums,\n",
      "    colDiffs, colIQRDiffs, colIQRs, colLogSumExps, colMadDiffs,\n",
      "    colMads, colMaxs, colMeans2, colMedians, colMins, colOrderStats,\n",
      "    colProds, colQuantiles, colRanges, colRanks, colSdDiffs, colSds,\n",
      "    colSums2, colTabulates, colVarDiffs, colVars, colWeightedMads,\n",
      "    colWeightedMeans, colWeightedMedians, colWeightedSds,\n",
      "    colWeightedVars, rowAlls, rowAnyNAs, rowAnys, rowAvgsPerColSet,\n",
      "    rowCollapse, rowCounts, rowCummaxs, rowCummins, rowCumprods,\n",
      "    rowCumsums, rowDiffs, rowIQRDiffs, rowIQRs, rowLogSumExps,\n",
      "    rowMadDiffs, rowMads, rowMaxs, rowMeans2, rowMedians, rowMins,\n",
      "    rowOrderStats, rowProds, rowQuantiles, rowRanges, rowRanks,\n",
      "    rowSdDiffs, rowSds, rowSums2, rowTabulates, rowVarDiffs, rowVars,\n",
      "    rowWeightedMads, rowWeightedMeans, rowWeightedMedians,\n",
      "    rowWeightedSds, rowWeightedVars\n",
      "\n",
      "\n",
      "Loading required package: Biobase\n",
      "\n",
      "Welcome to Bioconductor\n",
      "\n",
      "    Vignettes contain introductory material; view with\n",
      "    'browseVignettes()'. To cite Bioconductor, see\n",
      "    'citation(\"Biobase\")', and for packages 'citation(\"pkgname\")'.\n",
      "\n",
      "\n",
      "\n",
      "Attaching package: ‘Biobase’\n",
      "\n",
      "\n",
      "The following object is masked from ‘package:MatrixGenerics’:\n",
      "\n",
      "    rowMedians\n",
      "\n",
      "\n",
      "The following objects are masked from ‘package:matrixStats’:\n",
      "\n",
      "    anyMissing, rowMedians\n",
      "\n",
      "\n",
      "\n",
      "Attaching package: ‘phyloseq’\n",
      "\n",
      "\n",
      "The following object is masked from ‘package:SummarizedExperiment’:\n",
      "\n",
      "    distance\n",
      "\n",
      "\n",
      "The following object is masked from ‘package:Biobase’:\n",
      "\n",
      "    sampleNames\n",
      "\n",
      "\n",
      "The following object is masked from ‘package:GenomicRanges’:\n",
      "\n",
      "    distance\n",
      "\n",
      "\n",
      "The following object is masked from ‘package:IRanges’:\n",
      "\n",
      "    distance\n",
      "\n",
      "\n",
      "── \u001b[1mAttaching core tidyverse packages\u001b[22m ──────────────────────── tidyverse 2.0.0 ──\n",
      "\u001b[32m✔\u001b[39m \u001b[34mforcats  \u001b[39m 1.0.0     \u001b[32m✔\u001b[39m \u001b[34mstringr  \u001b[39m 1.5.1\n",
      "\u001b[32m✔\u001b[39m \u001b[34mlubridate\u001b[39m 1.9.4     \u001b[32m✔\u001b[39m \u001b[34mtibble   \u001b[39m 3.2.1\n",
      "\u001b[32m✔\u001b[39m \u001b[34mpurrr    \u001b[39m 1.0.4     \u001b[32m✔\u001b[39m \u001b[34mtidyr    \u001b[39m 1.3.1\n",
      "\u001b[32m✔\u001b[39m \u001b[34mreadr    \u001b[39m 2.1.5     \n",
      "── \u001b[1mConflicts\u001b[22m ────────────────────────────────────────── tidyverse_conflicts() ──\n",
      "\u001b[31m✖\u001b[39m \u001b[34mlubridate\u001b[39m::\u001b[32m%within%()\u001b[39m    masks \u001b[34mIRanges\u001b[39m::%within%()\n",
      "\u001b[31m✖\u001b[39m \u001b[34mIRanges\u001b[39m::\u001b[32mcollapse()\u001b[39m      masks \u001b[34mdplyr\u001b[39m::collapse()\n",
      "\u001b[31m✖\u001b[39m \u001b[34mBiobase\u001b[39m::\u001b[32mcombine()\u001b[39m       masks \u001b[34mBiocGenerics\u001b[39m::combine(), \u001b[34mdplyr\u001b[39m::combine()\n",
      "\u001b[31m✖\u001b[39m \u001b[34mmatrixStats\u001b[39m::\u001b[32mcount()\u001b[39m     masks \u001b[34mdplyr\u001b[39m::count()\n",
      "\u001b[31m✖\u001b[39m \u001b[34mIRanges\u001b[39m::\u001b[32mdesc()\u001b[39m          masks \u001b[34mdplyr\u001b[39m::desc()\n",
      "\u001b[31m✖\u001b[39m \u001b[34mtidyr\u001b[39m::\u001b[32mexpand()\u001b[39m          masks \u001b[34mS4Vectors\u001b[39m::expand()\n",
      "\u001b[31m✖\u001b[39m \u001b[34mdplyr\u001b[39m::\u001b[32mfilter()\u001b[39m          masks \u001b[34mplotly\u001b[39m::filter(), \u001b[34mstats\u001b[39m::filter()\n",
      "\u001b[31m✖\u001b[39m \u001b[34mS4Vectors\u001b[39m::\u001b[32mfirst()\u001b[39m       masks \u001b[34mdplyr\u001b[39m::first()\n",
      "\u001b[31m✖\u001b[39m \u001b[34mdplyr\u001b[39m::\u001b[32mlag()\u001b[39m             masks \u001b[34mstats\u001b[39m::lag()\n",
      "\u001b[31m✖\u001b[39m \u001b[34mBiocGenerics\u001b[39m::\u001b[32mPosition()\u001b[39m masks \u001b[34mggplot2\u001b[39m::Position(), \u001b[34mbase\u001b[39m::Position()\n",
      "\u001b[31m✖\u001b[39m \u001b[34mpurrr\u001b[39m::\u001b[32mreduce()\u001b[39m          masks \u001b[34mGenomicRanges\u001b[39m::reduce(), \u001b[34mIRanges\u001b[39m::reduce()\n",
      "\u001b[31m✖\u001b[39m \u001b[34mS4Vectors\u001b[39m::\u001b[32mrename()\u001b[39m      masks \u001b[34mdplyr\u001b[39m::rename(), \u001b[34mplotly\u001b[39m::rename()\n",
      "\u001b[31m✖\u001b[39m \u001b[34mlubridate\u001b[39m::\u001b[32msecond()\u001b[39m      masks \u001b[34mS4Vectors\u001b[39m::second()\n",
      "\u001b[31m✖\u001b[39m \u001b[34mlubridate\u001b[39m::\u001b[32msecond<-()\u001b[39m    masks \u001b[34mS4Vectors\u001b[39m::second<-()\n",
      "\u001b[31m✖\u001b[39m \u001b[34mIRanges\u001b[39m::\u001b[32mslice()\u001b[39m         masks \u001b[34mdplyr\u001b[39m::slice(), \u001b[34mplotly\u001b[39m::slice()\n",
      "\u001b[36mℹ\u001b[39m Use the conflicted package (\u001b[3m\u001b[34m<http://conflicted.r-lib.org/>\u001b[39m\u001b[23m) to force all conflicts to become errors\n",
      "Loading required package: futile.logger\n",
      "\n",
      "Loading required package: zCompositions\n",
      "\n",
      "Loading required package: MASS\n",
      "\n",
      "\n",
      "Attaching package: ‘MASS’\n",
      "\n",
      "\n",
      "The following object is masked from ‘package:dplyr’:\n",
      "\n",
      "    select\n",
      "\n",
      "\n",
      "The following object is masked from ‘package:plotly’:\n",
      "\n",
      "    select\n",
      "\n",
      "\n",
      "Loading required package: NADA\n",
      "\n",
      "Loading required package: survival\n",
      "\n",
      "\n",
      "Attaching package: ‘NADA’\n",
      "\n",
      "\n",
      "The following object is masked from ‘package:IRanges’:\n",
      "\n",
      "    cor\n",
      "\n",
      "\n",
      "The following object is masked from ‘package:S4Vectors’:\n",
      "\n",
      "    cor\n",
      "\n",
      "\n",
      "The following object is masked from ‘package:stats’:\n",
      "\n",
      "    cor\n",
      "\n",
      "\n",
      "Loading required package: truncnorm\n",
      "\n",
      "Loading required package: lattice\n",
      "\n",
      "Loading required package: latticeExtra\n",
      "\n",
      "\n",
      "Attaching package: ‘latticeExtra’\n",
      "\n",
      "\n",
      "The following object is masked from ‘package:ggplot2’:\n",
      "\n",
      "    layer\n",
      "\n",
      "\n",
      "The following object is masked from ‘package:ComplexHeatmap’:\n",
      "\n",
      "    dendrogramGrob\n",
      "\n",
      "\n",
      "Loading required package: Matrix\n",
      "\n",
      "\n",
      "Attaching package: ‘Matrix’\n",
      "\n",
      "\n",
      "The following objects are masked from ‘package:tidyr’:\n",
      "\n",
      "    expand, pack, unpack\n",
      "\n",
      "\n",
      "The following object is masked from ‘package:S4Vectors’:\n",
      "\n",
      "    expand\n",
      "\n",
      "\n",
      "Loading required package: magrittr\n",
      "\n",
      "\n",
      "Attaching package: ‘magrittr’\n",
      "\n",
      "\n",
      "The following object is masked from ‘package:purrr’:\n",
      "\n",
      "    set_names\n",
      "\n",
      "\n",
      "The following object is masked from ‘package:tidyr’:\n",
      "\n",
      "    extract\n",
      "\n",
      "\n",
      "The following object is masked from ‘package:GenomicRanges’:\n",
      "\n",
      "    subtract\n",
      "\n",
      "\n",
      "Loading required package: rlang\n",
      "\n",
      "\n",
      "Attaching package: ‘rlang’\n",
      "\n",
      "\n",
      "The following object is masked from ‘package:magrittr’:\n",
      "\n",
      "    set_names\n",
      "\n",
      "\n",
      "The following objects are masked from ‘package:purrr’:\n",
      "\n",
      "    %@%, flatten, flatten_chr, flatten_dbl, flatten_int, flatten_lgl,\n",
      "    flatten_raw, invoke, splice\n",
      "\n",
      "\n",
      "The following object is masked from ‘package:Biobase’:\n",
      "\n",
      "    exprs\n",
      "\n",
      "\n",
      "\n",
      "Attaching package: ‘ggpubr’\n",
      "\n",
      "\n",
      "The following object is masked from ‘package:VennDiagram’:\n",
      "\n",
      "    rotate\n",
      "\n",
      "\n",
      "\n",
      "Attaching package: ‘pheatmap’\n",
      "\n",
      "\n",
      "The following object is masked from ‘package:ComplexHeatmap’:\n",
      "\n",
      "    pheatmap\n",
      "\n",
      "\n"
     ]
    }
   ],
   "source": [
    "library(ComplexHeatmap)\n",
    "library(ggplot2)\n",
    "library(plotly)\n",
    "library(dplyr)\n",
    "library(DESeq2)\n",
    "library(phyloseq)\n",
    "library(tidyverse)\n",
    "library(ggplot2)\n",
    "library(ggrepel)\n",
    "library(VennDiagram)\n",
    "library(ALDEx2)\n",
    "library(radEmu)\n",
    "library(ggpubr)\n",
    "library(ggvenn)\n",
    "library(pheatmap)"
   ]
  },
  {
   "cell_type": "code",
   "execution_count": 2,
   "id": "9a19a429",
   "metadata": {
    "vscode": {
     "languageId": "r"
    }
   },
   "outputs": [],
   "source": [
    "setwd(\"~/R_tasks\")"
   ]
  },
  {
   "cell_type": "code",
   "execution_count": null,
   "id": "8ef5fa6a",
   "metadata": {
    "vscode": {
     "languageId": "r"
    }
   },
   "outputs": [
    {
     "data": {
      "text/html": [
       "TRUE"
      ],
      "text/latex": [
       "TRUE"
      ],
      "text/markdown": [
       "TRUE"
      ],
      "text/plain": [
       "[1] TRUE"
      ]
     },
     "metadata": {},
     "output_type": "display_data"
    },
    {
     "data": {
      "text/html": [
       "<style>\n",
       ".list-inline {list-style: none; margin:0; padding: 0}\n",
       ".list-inline>li {display: inline-block}\n",
       ".list-inline>li:not(:last-child)::after {content: \"\\00b7\"; padding: 0 .5ex}\n",
       "</style>\n",
       "<ol class=list-inline><li>'Abiotrophia..'</li><li>'Acholeplasma..'</li><li>'Acidaminococcus..'</li><li>'Actinobaculum..'</li><li>'Actinomyces..'</li><li>'Adlercreutzia..'</li></ol>\n"
      ],
      "text/latex": [
       "\\begin{enumerate*}\n",
       "\\item 'Abiotrophia..'\n",
       "\\item 'Acholeplasma..'\n",
       "\\item 'Acidaminococcus..'\n",
       "\\item 'Actinobaculum..'\n",
       "\\item 'Actinomyces..'\n",
       "\\item 'Adlercreutzia..'\n",
       "\\end{enumerate*}\n"
      ],
      "text/markdown": [
       "1. 'Abiotrophia..'\n",
       "2. 'Acholeplasma..'\n",
       "3. 'Acidaminococcus..'\n",
       "4. 'Actinobaculum..'\n",
       "5. 'Actinomyces..'\n",
       "6. 'Adlercreutzia..'\n",
       "\n",
       "\n"
      ],
      "text/plain": [
       "[1] \"Abiotrophia..\"     \"Acholeplasma..\"    \"Acidaminococcus..\"\n",
       "[4] \"Actinobaculum..\"   \"Actinomyces..\"     \"Adlercreutzia..\"  "
      ]
     },
     "metadata": {},
     "output_type": "display_data"
    },
    {
     "data": {
      "text/html": [
       "<style>\n",
       ".list-inline {list-style: none; margin:0; padding: 0}\n",
       ".list-inline>li {display: inline-block}\n",
       ".list-inline>li:not(:last-child)::after {content: \"\\00b7\"; padding: 0 .5ex}\n",
       "</style>\n",
       "<ol class=list-inline><li>'condition'</li><li>'study_name..MBIOTEMP_study_name.'</li></ol>\n"
      ],
      "text/latex": [
       "\\begin{enumerate*}\n",
       "\\item 'condition'\n",
       "\\item 'study\\_name..MBIOTEMP\\_study\\_name.'\n",
       "\\end{enumerate*}\n"
      ],
      "text/markdown": [
       "1. 'condition'\n",
       "2. 'study_name..MBIOTEMP_study_name.'\n",
       "\n",
       "\n"
      ],
      "text/plain": [
       "[1] \"condition\"                        \"study_name..MBIOTEMP_study_name.\""
      ]
     },
     "metadata": {},
     "output_type": "display_data"
    }
   ],
   "source": [
    "source_file<- read.delim(\"source1.txt\", header= T, row.names = 1, sep = \"\\t\")\n",
    "metadata <- source_file[, (ncol(source_file) - 1):ncol(source_file)]\n",
    "assay<- source_file[, -c((ncol(source_file) - 1):ncol(source_file))]\n",
    "#metadata<- source_file[,c(1,2)]\n",
    "#assay<- source_file[,-c(1,2)]\n",
    "assay1<- t(assay)\n",
    "\n",
    "r_a<- rownames(assay1)\n",
    "assay1 <- matrix(as.numeric(assay1), nrow = nrow(assay1))\n",
    "rownames(assay1)<- r_a\n",
    "colnames(assay1)<- rownames(metadata)\n",
    "assay1[is.na(assay1)]<-0\n",
    "\n",
    "# RENAMING the taxa\n",
    "taxa_names <- c(rownames(assay1))\n",
    "\n",
    "# Removing unwanted characters (like \"EUPATH_0009353\")\n",
    "taxa_cleaned <- gsub(\"EUPATH.*\", \"\", taxa_names)\n",
    "rownames(assay1)<-taxa_cleaned\n",
    "# Splitting taxa by delimiters\n",
    "taxa_split <- strsplit(taxa_cleaned, \"[_.]+\")\n",
    "\n",
    "keep <- rowSums(assay1 >= 5) >= 2\n",
    "assay1_filtered <- assay1[keep, ]\n",
    "colnames(metadata)[colnames(metadata)==\"study_condition..MBIOTEMP_study_condition.\"]<- \"condition\"\n",
    "\n",
    "# Writting down counts and metadata after organizing them to run ANCOM-BC using QIIME2 on linux\n",
    "###################\n",
    "write.csv(assay1_filtered,file = \"feature_table.csv\")\n",
    "write.csv(metadata, file = \"sample_metadata.csv\")\n",
    "###################\n",
    "\n",
    "assay1<-round(assay1)\n",
    "assay1<- assay1+1\n",
    "\n",
    "\n",
    "#this step is for designing the study to be between two conditions:\n",
    "metadata$condition <- ifelse(metadata$condition == \"control\", \"control\", \"Tumor\")\n",
    "cond<- metadata$condition"
   ]
  },
  {
   "cell_type": "markdown",
   "id": "c542e895",
   "metadata": {
    "vscode": {
     "languageId": "r"
    }
   },
   "source": [
    "### for ALDEx2"
   ]
  },
  {
   "cell_type": "code",
   "execution_count": 9,
   "id": "235df230",
   "metadata": {
    "vscode": {
     "languageId": "r"
    }
   },
   "outputs": [
    {
     "name": "stderr",
     "output_type": "stream",
     "text": [
      "conditions vector supplied\n",
      "\n",
      "operating in serial mode\n",
      "\n",
      "removed rows with sums equal to zero\n",
      "\n",
      "computing iqlr centering\n",
      "\n",
      "data format is OK\n",
      "\n",
      "dirichlet samples complete\n",
      "\n",
      "transformation complete\n",
      "\n",
      "operating in serial mode\n",
      "\n",
      "sanity check complete\n",
      "\n",
      "rab.all  complete\n",
      "\n",
      "rab.win  complete\n",
      "\n",
      "rab of samples complete\n",
      "\n",
      "within sample difference calculated\n",
      "\n",
      "between group difference calculated\n",
      "\n",
      "group summaries calculated\n",
      "\n",
      "unpaired effect size calculated\n",
      "\n",
      "summarizing output\n",
      "\n"
     ]
    }
   ],
   "source": [
    "keep <- rowSums(assay1 >= 5) >= 2\n",
    "assay1_filtered <- assay1[keep, ]\n",
    "\n",
    "# Performing ALDEx2 transformation using clr normalization\n",
    "aldex_data <- aldex.clr(assay1_filtered, cond, denom=\"iqlr\", verbose=TRUE)\n",
    "\n",
    "# Running differential abundance analysis (Wilcoxon test for two conditions)\n",
    "aldex_results <- aldex.ttest(aldex_data)\n",
    "\n",
    "# Computing effect sizes\n",
    "effect_sizes <- aldex.effect(aldex_data)\n",
    "\n",
    "# Merging results into a single dataframe\n",
    "aldex_output <- data.frame(aldex_results, effect_sizes)\n",
    "\n",
    "# Orderin by p-value\n",
    "aldex_output <- aldex_output[order(aldex_output$we.ep), ]\n",
    "# Computing approximate fold change\n",
    "aldex_output$fold_change <- 2^aldex_output$diff.btw\n",
    "\n",
    "# results\n",
    "write.csv(aldex_output, file = \"aldex_results.csv\", row.names = TRUE)"
   ]
  },
  {
   "cell_type": "markdown",
   "id": "eced9798",
   "metadata": {
    "vscode": {
     "languageId": "r"
    }
   },
   "source": [
    "### for radEmu:"
   ]
  },
  {
   "cell_type": "code",
   "execution_count": null,
   "id": "7dce5437",
   "metadata": {
    "vscode": {
     "languageId": "r"
    }
   },
   "outputs": [
    {
     "data": {
      "text/html": [
       "<style>\n",
       ".list-inline {list-style: none; margin:0; padding: 0}\n",
       ".list-inline>li {display: inline-block}\n",
       ".list-inline>li:not(:last-child)::after {content: \"\\00b7\"; padding: 0 .5ex}\n",
       "</style>\n",
       "<ol class=list-inline><li>'(Intercept)'</li><li>'conditionTumor'</li></ol>\n"
      ],
      "text/latex": [
       "\\begin{enumerate*}\n",
       "\\item '(Intercept)'\n",
       "\\item 'conditionTumor'\n",
       "\\end{enumerate*}\n"
      ],
      "text/markdown": [
       "1. '(Intercept)'\n",
       "2. 'conditionTumor'\n",
       "\n",
       "\n"
      ],
      "text/plain": [
       "[1] \"(Intercept)\"    \"conditionTumor\""
      ]
     },
     "metadata": {},
     "output_type": "display_data"
    }
   ],
   "source": [
    "design_matrix <- radEmu::make_design_matrix(formula = ~ condition, data = metadata)\n",
    "colnames(design_matrix)\n",
    "k_index <- 2\n",
    "otu <- otu_table(assay1, taxa_are_rows = TRUE)\n",
    "samp <- sample_data(metadata)\n",
    "physeq <- phyloseq(otu, samp)\n",
    "\n",
    "physeq <- filter_taxa(physeq, function(x) sum(x >= 5) >= 2, TRUE)\n",
    "test_kj <- expand.grid(\n",
    "  k = k_index,\n",
    "  j = 1:ntaxa(physeq)\n",
    ")\n",
    "ch_fit <- emuFit(\n",
    "  formula = ~ condition,\n",
    "  Y = physeq,\n",
    "  test_kj = test_kj\n",
    ")\n",
    "x <- ch_fit$coef\n",
    "x <- x[order(x$pval), ]\n",
    "write.csv(x, \"rademu_results.csv\")\n",
    "\n"
   ]
  },
  {
   "cell_type": "code",
   "execution_count": null,
   "id": "377a4296",
   "metadata": {
    "vscode": {
     "languageId": "r"
    }
   },
   "outputs": [
    {
     "name": "stderr",
     "output_type": "stream",
     "text": [
      "converting counts to integer mode\n",
      "\n",
      "Warning message in DESeqDataSet(se, design = design, ignoreRank):\n",
      "“some variables in design formula are characters, converting to factors”\n"
     ]
    }
   ],
   "source": [
    "dds<-DESeqDataSetFromMatrix(countData = assay1,\n",
    "                            colData = metadata,\n",
    "                            design = ~condition)\n",
    "dds$condition<-as.factor(dds$condition)\n",
    "dds$condition<- relevel(dds$condition,ref = \"control\")\n",
    "keep<- rowSums(counts(dds)>=5)>=2\n",
    "dds1<- dds[keep,]\n",
    "f<-counts(dds1)\n",
    "dds1<-DESeq(dds1)\n",
    "res<-results(dds1,alpha = 0.05)\n",
    "res<-res[order(res$pvalue),]\n",
    "write.csv(res,file = \"primary1.csv\")\n",
    "\n"
   ]
  },
  {
   "cell_type": "markdown",
   "id": "70cf88f5",
   "metadata": {},
   "source": [
    "# for finding Intersected and Unique taxa:"
   ]
  },
  {
   "cell_type": "code",
   "execution_count": 11,
   "id": "bc6c0579",
   "metadata": {
    "vscode": {
     "languageId": "r"
    }
   },
   "outputs": [],
   "source": [
    "\n",
    "resa_df<- read.csv(\"primary1.csv\",header = T)\n",
    "rownames(resa_df)<- resa_df$X\n",
    "sub_resa100<-head(resa_df, 100)\n",
    "sub_resa50<-head(resa_df, 25) # It defers based on the total number of filltered taxa\n",
    "des100<-sub_resa100$X\n",
    "des50<-sub_resa50$X\n",
    "\n",
    "#rademu\n",
    "rademu<- read.csv(\"rademu_results.csv\",header=T)\n",
    "rademu$category<-make.unique(rademu$category)\n",
    "rownames(rademu)<-rademu$category\n",
    "colnames(rademu)[colnames(rademu)==\"pval\"]<- \"pvalue\"\n",
    "sub_rad100<- head(rademu,100 )\n",
    "sub_rad50<- head(rademu, 25)\n",
    "rad100<-sub_rad100$category\n",
    "rad50<-sub_rad50$category\n",
    "\n",
    "#aldex2\n",
    "aldex<-read.csv(\"aldex_results.csv\", header = T)\n",
    "rownames(aldex)<-aldex$X\n",
    "colnames(aldex)[colnames(aldex)==\"we.ep\"]<-\"pvalue\"\n",
    "sub_ald100<- head(aldex, 100)\n",
    "sub_ald50<- head(aldex, 25)\n",
    "ald100<-sub_ald100$X\n",
    "\n",
    "ald50<-sub_ald50$X\n"
   ]
  },
  {
   "cell_type": "code",
   "execution_count": 13,
   "id": "2092423f",
   "metadata": {
    "vscode": {
     "languageId": "r"
    }
   },
   "outputs": [
    {
     "data": {
      "text/html": [
       "<style>\n",
       ".list-inline {list-style: none; margin:0; padding: 0}\n",
       ".list-inline>li {display: inline-block}\n",
       ".list-inline>li:not(:last-child)::after {content: \"\\00b7\"; padding: 0 .5ex}\n",
       "</style>\n",
       "<ol class=list-inline><li>'Veillonella..'</li><li>'Streptococcus..'</li><li>'Klebsiella..'</li><li>'Mediterraneibacter..'</li><li>'Ligilactobacillus..'</li><li>'Alistipes..'</li></ol>\n"
      ],
      "text/latex": [
       "\\begin{enumerate*}\n",
       "\\item 'Veillonella..'\n",
       "\\item 'Streptococcus..'\n",
       "\\item 'Klebsiella..'\n",
       "\\item 'Mediterraneibacter..'\n",
       "\\item 'Ligilactobacillus..'\n",
       "\\item 'Alistipes..'\n",
       "\\end{enumerate*}\n"
      ],
      "text/markdown": [
       "1. 'Veillonella..'\n",
       "2. 'Streptococcus..'\n",
       "3. 'Klebsiella..'\n",
       "4. 'Mediterraneibacter..'\n",
       "5. 'Ligilactobacillus..'\n",
       "6. 'Alistipes..'\n",
       "\n",
       "\n"
      ],
      "text/plain": [
       "[1] \"Veillonella..\"        \"Streptococcus..\"      \"Klebsiella..\"        \n",
       "[4] \"Mediterraneibacter..\" \"Ligilactobacillus..\"  \"Alistipes..\"         "
      ]
     },
     "metadata": {},
     "output_type": "display_data"
    },
    {
     "data": {
      "text/html": [
       "<style>\n",
       ".list-inline {list-style: none; margin:0; padding: 0}\n",
       ".list-inline>li {display: inline-block}\n",
       ".list-inline>li:not(:last-child)::after {content: \"\\00b7\"; padding: 0 .5ex}\n",
       "</style>\n",
       "<ol class=list-inline><li>'Abiotrophia..'</li><li>'Acholeplasma..'</li><li>'Acidaminococcus..'</li><li>'Actinobaculum..'</li><li>'Actinomyces..'</li><li>'Adlercreutzia..'</li></ol>\n"
      ],
      "text/latex": [
       "\\begin{enumerate*}\n",
       "\\item 'Abiotrophia..'\n",
       "\\item 'Acholeplasma..'\n",
       "\\item 'Acidaminococcus..'\n",
       "\\item 'Actinobaculum..'\n",
       "\\item 'Actinomyces..'\n",
       "\\item 'Adlercreutzia..'\n",
       "\\end{enumerate*}\n"
      ],
      "text/markdown": [
       "1. 'Abiotrophia..'\n",
       "2. 'Acholeplasma..'\n",
       "3. 'Acidaminococcus..'\n",
       "4. 'Actinobaculum..'\n",
       "5. 'Actinomyces..'\n",
       "6. 'Adlercreutzia..'\n",
       "\n",
       "\n"
      ],
      "text/plain": [
       "[1] \"Abiotrophia..\"     \"Acholeplasma..\"    \"Acidaminococcus..\"\n",
       "[4] \"Actinobaculum..\"   \"Actinomyces..\"     \"Adlercreutzia..\"  "
      ]
     },
     "metadata": {},
     "output_type": "display_data"
    },
    {
     "data": {
      "text/html": [],
      "text/latex": [],
      "text/markdown": [],
      "text/plain": [
       "character(0)"
      ]
     },
     "metadata": {},
     "output_type": "display_data"
    }
   ],
   "source": [
    "# Extracting row names\n",
    "rows_assay1 <- rownames(assay1)\n",
    "rows_resa100 <- rownames(sub_resa50)\n",
    "rows_rad100 <- rownames(sub_rad50)\n",
    "rows_ald100 <- rownames(sub_ald50)\n",
    "\n",
    "# Find intersection\n",
    "intersected_rows <- Reduce(intersect, list(rows_resa100, rows_rad100, rows_ald100))\n",
    "\n",
    "assay1_intersected <- assay1[intersected_rows, ]\n",
    "\n",
    "#########\n",
    "###########\n",
    "##########\n",
    "head(intersected_rows)\n",
    "head(rownames(assay1))\n",
    "setdiff(intersected_rows, rownames(assay1)) %>% head(10)\n",
    "\n",
    "\n",
    "\n",
    "# Find unique taxa for each tool\n",
    "unique_resa100 <- setdiff(setdiff(rows_resa100, rows_ald100), rows_rad100)\n",
    "sub_resa100_unique <- assay1[unique_resa100, ]\n",
    "\n",
    "unique_rad100 <- setdiff(setdiff(rows_rad100, rows_resa100), rows_ald100)\n",
    "sub_rad100_unique <- assay1[unique_rad100, ]\n",
    "\n",
    "unique_ald100 <- setdiff(setdiff(rows_ald100, rows_resa100), rows_rad100)\n",
    "sub_ald100_unique <- assay1[unique_ald100, ]\n",
    "\n",
    "# Generate plot title\n",
    "heatmap_title <- paste0(\n",
    "  \"Intersected taxa: \", length(intersected_rows),\n",
    "  \" | Unique DESeq2: \", length(unique_resa100),\n",
    "  \" | Unique RADEMU: \", length(unique_rad100),\n",
    "  \" | Unique ALDEX2: \", length(unique_ald100)\n",
    ")\n"
   ]
  },
  {
   "cell_type": "code",
   "execution_count": null,
   "id": "4a58ca2d",
   "metadata": {
    "vscode": {
     "languageId": "r"
    }
   },
   "outputs": [
    {
     "ename": "ERROR",
     "evalue": "Error in hclust(d, method = method): must have n >= 2 objects to cluster\n",
     "output_type": "error",
     "traceback": [
      "Error in hclust(d, method = method): must have n >= 2 objects to cluster\nTraceback:\n",
      "1. cluster_mat(t(mat), distance = clustering_distance_cols, method = clustering_method)",
      "2. hclust(d, method = method)",
      "3. stop(\"must have n >= 2 objects to cluster\")",
      "4. .handleSimpleError(function (cnd) \n . {\n .     watcher$capture_plot_and_output()\n .     cnd <- sanitize_call(cnd)\n .     watcher$push(cnd)\n .     switch(on_error, continue = invokeRestart(\"eval_continue\"), \n .         stop = invokeRestart(\"eval_stop\"), error = NULL)\n . }, \"must have n >= 2 objects to cluster\", base::quote(hclust(d, \n .     method = method)))"
     ]
    }
   ],
   "source": [
    "# Intersected heatmap with title\n",
    "pheatmap(\n",
    "  assay1_intersected,\n",
    "  cluster_rows = TRUE,\n",
    "  cluster_cols = TRUE,\n",
    "  width = 15,\n",
    "  height = 8,\n",
    "  dpi = 300,\n",
    "  filename = \"heatmap_assay1_intersected.png\",\n",
    "  main = heatmap_title\n",
    ")\n",
    "\n",
    "# Unique DESeq2\n",
    "pheatmap(\n",
    "  sub_resa100_unique,\n",
    "  cluster_rows = TRUE,\n",
    "  cluster_cols = TRUE,\n",
    "  width = 15,\n",
    "  height = 8,\n",
    "  dpi = 300,\n",
    "  filename = \"heatmap_sub_des_unique.png\"\n",
    ")"
   ]
  },
  {
   "cell_type": "code",
   "execution_count": 17,
   "id": "2753441f",
   "metadata": {
    "vscode": {
     "languageId": "r"
    }
   },
   "outputs": [],
   "source": [
    "# Unique RADEMU\n",
    "pheatmap(\n",
    "  sub_rad100_unique,\n",
    "  cluster_rows = TRUE,\n",
    "  cluster_cols = TRUE,\n",
    "  width = 15,\n",
    "  height = 8,\n",
    "  dpi = 300,\n",
    "  filename = \"heatmap_sub_rad_unique.png\"\n",
    ")\n",
    "\n",
    "# Unique ALDEX2\n",
    "pheatmap(\n",
    "  sub_ald100_unique,\n",
    "  cluster_rows = TRUE,\n",
    "  cluster_cols = TRUE,\n",
    "  width = 15,\n",
    "  height = 8,\n",
    "  dpi = 300,\n",
    "  filename = \"heatmap_sub_ald_unique.png\"\n",
    ")\n"
   ]
  }
 ],
 "metadata": {
  "kernelspec": {
   "display_name": "R",
   "language": "R",
   "name": "ir"
  },
  "language_info": {
   "codemirror_mode": "r",
   "file_extension": ".r",
   "mimetype": "text/x-r-source",
   "name": "R",
   "pygments_lexer": "r",
   "version": "4.5.0"
  }
 },
 "nbformat": 4,
 "nbformat_minor": 5
}
